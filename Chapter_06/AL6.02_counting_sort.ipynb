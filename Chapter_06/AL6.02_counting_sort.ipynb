{
 "cells": [
  {
   "cell_type": "markdown",
   "metadata": {},
   "source": [
    "---\n",
    "# 문제정의\n",
    "### 입력의 종류에 따라서 리스트의 각 항목들을 단순히 세는 방법으로 정렬할 수 있다. 이한 정렬 기법을 카운팅 정렬이라고 한다."
   ]
  },
  {
   "cell_type": "markdown",
   "metadata": {},
   "source": [
    "---\n",
    "# 알고리즘 설명\n",
    "### 리스트를 한번 스캔하면서 각 항목이 리스트에 몇 번 나타났는지 빈도수를 계산한다. 빈도수가 구해지면 가장 작은 항목부터 순서로 빈도수만큼 나열한다."
   ]
  },
  {
   "cell_type": "markdown",
   "metadata": {},
   "source": [
    "---\n",
    "# 손으로 푼 예제\n",
    "![AL 6.02_counting_sort](../image/AL6.02_counting_sort_hand.png)"
   ]
  },
  {
   "cell_type": "markdown",
   "metadata": {},
   "source": [
    "---\n",
    "# 코드 개요\n",
    "## 입력 변수\n",
    "### MAX_VAL : 킷값을 지정해준다\n",
    "### data : 연결리스트에 정렬되지 않은 인덱스들이 나열되어있다.\n",
    "## 출력\n",
    "### for문을 이용해 빈도를 계산하고 해당 숫자의 위치가 되도록 수정하고 원래 배열에 복사하는등 이런 정렬을 거쳐 오름차순으로 정렬이 된다"
   ]
  },
  {
   "cell_type": "markdown",
   "metadata": {},
   "source": [
    "---\n",
    "# 알고리즘 코드"
   ]
  },
  {
   "cell_type": "code",
   "execution_count": 1,
   "metadata": {},
   "outputs": [],
   "source": [
    "def counting_sort(A):\n",
    "    output = [0]*len(A)\n",
    "    count = [0]*MAX_VAL\n",
    "\n",
    "    for i in A:\n",
    "        count[i]+=1\n",
    "\n",
    "    for i in range(MAX_VAL):\n",
    "        count[i] += count[i-1]\n",
    "\n",
    "    for i in range(len(A)):\n",
    "        output[count[A[i]]-1] = A[i]\n",
    "        count[A[i]] -= 1\n",
    "\n",
    "    for i in range(len(A)):\n",
    "        A[i]=output[i]"
   ]
  },
  {
   "cell_type": "markdown",
   "metadata": {},
   "source": [
    "---\n",
    "# 테스트 코드"
   ]
  },
  {
   "cell_type": "code",
   "execution_count": 2,
   "metadata": {},
   "outputs": [
    {
     "name": "stdout",
     "output_type": "stream",
     "text": [
      "Original :  [1, 4, 1, 2, 7, 5, 2]\n",
      "Counting :  [1, 1, 2, 2, 4, 5, 7]\n"
     ]
    }
   ],
   "source": [
    "MAX_VAL = 10\n",
    "data = [1,4,1,2,7,5,2]\n",
    "print(\"Original : \",data)\n",
    "counting_sort(data)\n",
    "print(\"Counting : \",data)"
   ]
  },
  {
   "cell_type": "markdown",
   "metadata": {},
   "source": [
    "---\n",
    "# 수행결과\n",
    "![AL 6.02_counting_sort](../image/AL6.02_counting_sort_result.png)"
   ]
  },
  {
   "cell_type": "markdown",
   "metadata": {},
   "source": [
    "---\n",
    "# 복잡도 분석\n",
    "### 카운팅 정렬은 입력 데이터가 크지 않은 일정한 범위의 값을 가진 정수라면 매우 효율적인 알고리즘으로 모든 루프가 단일 루프이다. 숫자의 범위가 k가지(0~k-1)라면 전체 알고리즘은 O(k+n)의 시간 복잡도를 갖는다.\n",
    "### 공간복잡도는 O(k+n)이다. 하지만 킷값이 실수라면 적용하라수 없다. k가 무한히 커지기 때문이다."
   ]
  },
  {
   "cell_type": "markdown",
   "metadata": {},
   "source": [
    "---\n",
    "# 조별 협력 내용\n",
    "### 팀원끼리 문제를 나누어 풀며 문제 내용을 공유함"
   ]
  },
  {
   "cell_type": "markdown",
   "metadata": {},
   "source": []
  }
 ],
 "metadata": {
  "kernelspec": {
   "display_name": "Python 3",
   "language": "python",
   "name": "python3"
  },
  "language_info": {
   "codemirror_mode": {
    "name": "ipython",
    "version": 3
   },
   "file_extension": ".py",
   "mimetype": "text/x-python",
   "name": "python",
   "nbconvert_exporter": "python",
   "pygments_lexer": "ipython3",
   "version": "3.11.2"
  }
 },
 "nbformat": 4,
 "nbformat_minor": 2
}
