{
 "cells": [
  {
   "cell_type": "markdown",
   "metadata": {},
   "source": [
    "---\n",
    "# 문제정의\n",
    "### 동적 계획법을 사용하여 배낭채우기 알고리즘을 작성하라"
   ]
  },
  {
   "cell_type": "markdown",
   "metadata": {},
   "source": [
    "---\n",
    "# 알고리즘 설명\n",
    "### 물건의 가치와 무게를 리스트로 입력받고, 배낭의 최대 용량 W를 입력받아 동적 계획법을 사용하여 배낭에 담을 수 있는 물건들의 최대 가치를 계산하고 dp 테이블을 사용하여 점진적으로 최적해를 구하고, 최종 결과를 반환하는 알고리즘"
   ]
  },
  {
   "cell_type": "markdown",
   "metadata": {},
   "source": [
    "---\n",
    "# 손으로 푼 예제\n",
    "![7.6 hand](../image/7.6%20hand.png)"
   ]
  },
  {
   "cell_type": "markdown",
   "metadata": {},
   "source": [
    "---\n",
    "# 코드 개요\n",
    "### (n+1)x(W+1) 크기의 2차원리스트를 생성하고 모든 항목을 0으로 초기화\n",
    "### 만약 i번째 물건이 용량 초과시 이 물건을 제외한 물건을 고려한 경우의 최대 가치를 구하면 됨\n",
    "### 그렇지 않다면 이항목을 넣는 경우의 가치합과 넣지 않는 경우의 가치합을 계산함. 이들 중에서 큰값을 선택해 A[i][w]에 저장\n",
    "### 최종적으로 A[n][W]에 결과 저장, 이를 반환함"
   ]
  },
  {
   "cell_type": "markdown",
   "metadata": {},
   "source": [
    "---\n",
    "# 알고리즘 코드\n",
    "def knapSack_dc(W, wt, val, n):\n",
    "    if n == 0 or W == 0:\n",
    "        return 0\n",
    "    \n",
    "    if wt[n-1] > W:\n",
    "        return knapSack_dc(W, wt, val, n-1)\n",
    "    else:\n",
    "        valWithout = knapSack_dc(W, wt, val, n-1)\n",
    "        valWith = val[n-1] + knapSack_dc(W - wt[n-1], wt, val, n-1)\n",
    "        return max(valWith, valWithout)\n",
    "    \n",
    "\n",
    "def knapSack_dp(W, wt, val, n):\n",
    "    A = [[0 for x in range(W+1)] for x in range(n+1)]\n",
    "\n",
    "    for i in range(1, n+1):\n",
    "        for w in range(1, W+1):\n",
    "            if wt[i-1] > w:\n",
    "                A[i][w] = A[i-1][w]\n",
    "            else:\n",
    "                valWith = val[i-1] + A[i-1][w - wt[i-1]]\n",
    "                valWithout = A[i-1][w]\n",
    "                A[i][w] = max(valWith, valWithout)\n",
    "    \n",
    "    return A[n][W]"
   ]
  },
  {
   "cell_type": "code",
   "execution_count": 1,
   "metadata": {},
   "outputs": [],
   "source": [
    "def knapSack_dc(W, wt, val, n):\n",
    "    if n == 0 or W == 0:\n",
    "        return 0\n",
    "    \n",
    "    if wt[n-1] > W:\n",
    "        return knapSack_dc(W, wt, val, n-1)\n",
    "    else:\n",
    "        valWithout = knapSack_dc(W, wt, val, n-1)\n",
    "        valWith = val[n-1] + knapSack_dc(W - wt[n-1], wt, val, n-1)\n",
    "        return max(valWith, valWithout)\n",
    "    \n",
    "\n",
    "def knapSack_dp(W, wt, val, n):\n",
    "    A = [[0 for x in range(W+1)] for x in range(n+1)]\n",
    "\n",
    "    for i in range(1, n+1):\n",
    "        for w in range(1, W+1):\n",
    "            if wt[i-1] > w:\n",
    "                A[i][w] = A[i-1][w]\n",
    "            else:\n",
    "                valWith = val[i-1] + A[i-1][w - wt[i-1]]\n",
    "                valWithout = A[i-1][w]\n",
    "                A[i][w] = max(valWith, valWithout)\n",
    "    \n",
    "    return A[n][W]"
   ]
  },
  {
   "cell_type": "markdown",
   "metadata": {},
   "source": [
    "---\n",
    "# 테스트 코드"
   ]
  },
  {
   "cell_type": "code",
   "execution_count": 2,
   "metadata": {},
   "outputs": [
    {
     "name": "stdout",
     "output_type": "stream",
     "text": [
      "0-1배낭문제(분할 정복): 480\n",
      "0-1배낭문제(동적 계획): 480\n"
     ]
    }
   ],
   "source": [
    "val = [60, 100, 190, 120, 200, 150]\n",
    "wt = [2, 5, 8, 4, 7, 6]\n",
    "W = 18\n",
    "n = len(val)\n",
    "\n",
    "print(\"0-1배낭문제(분할 정복):\", knapSack_dc(W, wt, val, n))\n",
    "print(\"0-1배낭문제(동적 계획):\", knapSack_dp(W, wt, val, n))\n"
   ]
  },
  {
   "cell_type": "markdown",
   "metadata": {},
   "source": [
    "---\n",
    "# 수행결과\n",
    "![7.6 result](../image/7.6%20result.png)"
   ]
  },
  {
   "cell_type": "markdown",
   "metadata": {},
   "source": [
    "---\n",
    "# 복잡도 분석\n",
    "### 시간복잡도: 이중루프를 사용하고 외부루프가 최대 n번, 내부 루프가 W번 반복된다. 따라서 전체 시간 복잡도는 O(nW)이다\n",
    "### 공간복잡도: 부분 문제의 해를 저장할 테이블을 위해 O(nW)의 추가적인 공간을 사용한다"
   ]
  },
  {
   "cell_type": "markdown",
   "metadata": {},
   "source": [
    "---\n",
    "# 조별 협력 내용\n",
    "### 팀원과 협동하여 문제를 해결하였고 함께 검토하였음"
   ]
  },
  {
   "cell_type": "markdown",
   "metadata": {},
   "source": []
  }
 ],
 "metadata": {
  "kernelspec": {
   "display_name": "Python 3",
   "language": "python",
   "name": "python3"
  },
  "language_info": {
   "codemirror_mode": {
    "name": "ipython",
    "version": 3
   },
   "file_extension": ".py",
   "mimetype": "text/x-python",
   "name": "python",
   "nbconvert_exporter": "python",
   "pygments_lexer": "ipython3",
   "version": "3.11.2"
  }
 },
 "nbformat": 4,
 "nbformat_minor": 2
}
