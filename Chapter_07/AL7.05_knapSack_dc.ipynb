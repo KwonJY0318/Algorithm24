{
 "cells": [
  {
   "cell_type": "markdown",
   "metadata": {},
   "source": [
    "---\n",
    "# 문제정의\n",
    "### 각각 무게가 wt(i)이고 가치가 val(i)인 n개의 물건과 용량이 W인 배낭이 주어졌을 때 배낭 가치가 최대가 되도록 물건들을 배낭에 넣는 문제"
   ]
  },
  {
   "cell_type": "markdown",
   "metadata": {},
   "source": [
    "---\n",
    "# 알고리즘 설명\n",
    "### 배낭에 물건을 넣을수 없을시 나머지 항목들을 처리하고 그렇지 않다면 넣지않는경우, 넣는경우 를 계산하여 이들중 가장 큰 값을 반환하는 알고리즘"
   ]
  },
  {
   "cell_type": "markdown",
   "metadata": {},
   "source": [
    "---\n",
    "# 손으로 푼 예제\n",
    "![7.5 hand](../image/7.5%20hand.jpg)"
   ]
  },
  {
   "cell_type": "markdown",
   "metadata": {},
   "source": [
    "---\n",
    "# 코드 개요\n",
    "## 입력 변수\n",
    "### W는 현재 배낭의 용량, wt는 물건들의 무게를 저장한 리스트\n",
    "### val은 물건들의 가치를 저장한 리스트 n은 물건들의 수\n",
    "## 출력\n",
    "### 만약 n번째 항목이 배낭 용량보다 크면, 이항목은 배낭에 넣을수 없고 따라서 남은 n-1개의 항목들로 다시 계산함\n",
    "### 그렇지 않다면 항목을 넣지 않는 경우, 넣는 경우를 계산하고 이들중에서 큰값을 선댁해 반환 "
   ]
  },
  {
   "cell_type": "markdown",
   "metadata": {},
   "source": [
    "---\n",
    "# 알고리즘 코드"
   ]
  },
  {
   "cell_type": "code",
   "execution_count": 3,
   "metadata": {},
   "outputs": [],
   "source": [
    "def knapSack_dc(W, wt, val, n):\n",
    "    if n == 0 or W == 0:\n",
    "        return 0\n",
    "    \n",
    "    if wt[n-1] > W:\n",
    "        return knapSack_dc(W, wt, val, n-1)\n",
    "    else:\n",
    "        valWithout = knapSack_dc(W, wt, val, n-1)\n",
    "        valWith = val[n-1] + knapSack_dc(W - wt[n-1], wt, val, n-1)\n",
    "        return max(valWith, valWithout)\n",
    "    \n",
    "\n",
    "def knapSack_dp(W, wt, val, n):\n",
    "    A = [[0 for x in range(W+1)] for x in range(n+1)]\n",
    "\n",
    "    for i in range(1, n+1):\n",
    "        for w in range(1, W+1):\n",
    "            if wt[i-1] > w:\n",
    "                A[i][w] = A[i-1][w]\n",
    "            else:\n",
    "                valWith = val[i-1] + A[i-1][w - wt[i-1]]\n",
    "                valWithout = A[i-1][w]\n",
    "                A[i][w] = max(valWith, valWithout)\n",
    "    \n",
    "    return A[n][W]"
   ]
  },
  {
   "cell_type": "markdown",
   "metadata": {},
   "source": [
    "---\n",
    "# 테스트 코드"
   ]
  },
  {
   "cell_type": "code",
   "execution_count": 4,
   "metadata": {},
   "outputs": [
    {
     "name": "stdout",
     "output_type": "stream",
     "text": [
      "0-1배낭문제(분할 정복): 480\n",
      "0-1배낭문제(동적 계획): 480\n"
     ]
    }
   ],
   "source": [
    "val = [60, 100, 190, 120, 200, 150]\n",
    "wt = [2, 5, 8, 4, 7, 6]\n",
    "W = 18\n",
    "n = len(val)\n",
    "\n",
    "print(\"0-1배낭문제(분할 정복):\", knapSack_dc(W, wt, val, n))\n",
    "print(\"0-1배낭문제(동적 계획):\", knapSack_dp(W, wt, val, n))"
   ]
  },
  {
   "cell_type": "markdown",
   "metadata": {},
   "source": [
    "---\n",
    "# 수행결과\n",
    "![7.5 result](../image/7.5%20result.png)"
   ]
  },
  {
   "cell_type": "markdown",
   "metadata": {},
   "source": [
    "---\n",
    "# 복잡도 분석\n",
    "### 분할정복 접근법에서의 시간복잡도는 각 물건에 대해 두 가지 선택(포함하거나 포함하지 않거나)이 존재합니다. 따라서, 총 가능한 선택의 조합 수는 O(2^n)이다\n",
    "### 공간복잡도는 주로 재귀 호출 스택에 의해 결정되는데 재귀 호출 깊이는 최대 n이므로, 공간 복잡도는 O(n)이다\n"
   ]
  },
  {
   "cell_type": "markdown",
   "metadata": {},
   "source": [
    "---\n",
    "# 조별 협력 내용\n",
    "### 팀원과 협동하여 문제를 해결하였고 함께 검토하였음"
   ]
  },
  {
   "cell_type": "markdown",
   "metadata": {},
   "source": []
  }
 ],
 "metadata": {
  "kernelspec": {
   "display_name": "Python 3",
   "language": "python",
   "name": "python3"
  },
  "language_info": {
   "codemirror_mode": {
    "name": "ipython",
    "version": 3
   },
   "file_extension": ".py",
   "mimetype": "text/x-python",
   "name": "python",
   "nbconvert_exporter": "python",
   "pygments_lexer": "ipython3",
   "version": "3.11.2"
  }
 },
 "nbformat": 4,
 "nbformat_minor": 2
}
