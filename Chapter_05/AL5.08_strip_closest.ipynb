{
 "cells": [
  {
   "cell_type": "markdown",
   "metadata": {},
   "source": [
    "---\n",
    "# 문제정의\n",
    "### 띠(srtip) 영역 내에서 d보다 작은 최근접 쌍의 거리 찾기"
   ]
  },
  {
   "cell_type": "markdown",
   "metadata": {},
   "source": [
    "---\n",
    "# 알고리즘 설명\n",
    "### Pl와 Pr에서 각각 d를 비교한뒤 거리를 구해 그 값들을 Pm의 최근접 쌍의 거리인 d(cross)와 비교하는 알고리즘"
   ]
  },
  {
   "cell_type": "markdown",
   "metadata": {},
   "source": [
    "---\n",
    "# 손으로 푼 예제\n",
    "![AL 5.08_strip_closest](../image/AL5.08_strip_closest_hand.png)"
   ]
  },
  {
   "cell_type": "markdown",
   "metadata": {},
   "source": [
    "---\n",
    "# 코드 개요\n",
    "## 입력 \n",
    "### n : 리스트 내의 점의 수\n",
    "## 출력\n",
    "### d_min : 가장 최근접 쌍의 거리\n",
    "## 함수 설명\n",
    "### 띠 영역을 만든 뒤 영역 안에서 d보다 작은 최근접 쌍의 거리를 찾는 코드\n"
   ]
  },
  {
   "cell_type": "markdown",
   "metadata": {},
   "source": [
    "---\n",
    "# 알고리즘 코드"
   ]
  },
  {
   "cell_type": "code",
   "execution_count": 3,
   "metadata": {},
   "outputs": [],
   "source": [
    "def strip_closest(P, d):\n",
    "    n = len(P)\n",
    "    d_min = d\n",
    "    P.sort(key = lambda point:point[1])\n",
    "    for i in range(n):\n",
    "        j = i + 1\n",
    "        while j < n and (P[j][1] - P[i][1]) < d_min:\n",
    "            dij = distance(P[i],P[j])\n",
    "            if dij < d_min:\n",
    "                d_min = dij\n",
    "            j += 1\n",
    "    return d_min"
   ]
  },
  {
   "cell_type": "markdown",
   "metadata": {},
   "source": [
    "---\n",
    "# 테스트 코드"
   ]
  },
  {
   "cell_type": "code",
   "execution_count": 4,
   "metadata": {},
   "outputs": [
    {
     "name": "stdout",
     "output_type": "stream",
     "text": [
      "가장 가까운 두 점의 거리 1.4142135623730951\n"
     ]
    }
   ],
   "source": [
    "import math\n",
    "def distance(p1, p2):\n",
    "    return math.sqrt((p1[0]-p2[0])**2 + (p1[1]-p2[1])**2)\n",
    "\n",
    "def closest_pair(p):\n",
    "    n = len(p)\n",
    "    mindist = float(\"inf\")\n",
    "    for i in range(n-1):\n",
    "        for j in range(i+1, n):\n",
    "            dist = distance(p[i], p[j])\n",
    "            if dist < mindist:\n",
    "                mindist = dist\n",
    "    return mindist\n",
    "\n",
    "def closest_pair_dist(P, n):\n",
    "    if n <= 3:\n",
    "        return closest_pair(P)\n",
    "    mid = n // 2\n",
    "    mid_x = P[mid][0]\n",
    "    dl = closest_pair_dist(P[:mid], mid)\n",
    "    dr = closest_pair_dist(P[mid:], n-mid)\n",
    "    d = min(dl, dr)\n",
    "    Pm = []\n",
    "    for i in range(n):\n",
    "        if abs(P[i][0] - mid_x) < d:\n",
    "            Pm.append(P[i])\n",
    "    ds = strip_closest(Pm, d)\n",
    "    return ds\n",
    "\n",
    "p = [(2,3),(12,30),(40,50),(5,1),(12,10),(3,4)]\n",
    "p.sort(key = lambda point:point[0])\n",
    "print(\"가장 가까운 두 점의 거리\", closest_pair_dist(p, len(p)))"
   ]
  },
  {
   "cell_type": "markdown",
   "metadata": {},
   "source": [
    "---\n",
    "# 수행결과\n",
    "![AL 5.08_strip_closest](../image/AL5.08_strip_closest_result.png)"
   ]
  },
  {
   "cell_type": "markdown",
   "metadata": {},
   "source": [
    "---\n",
    "# 복잡도 분석\n",
    "### 전체 이중 루프의 복잡도는 점근적으로 O(n)이다. \n",
    "### 보통 효율적인 알고리즘을 사용하면 정렬의 복잡도가 O(nlog2n)이 되기 때문이다. \n",
    "### 그러나 이 과정도 병합 정렬에서 공부한 병합(merge) 알고리즘을 사용하면 O(n)으로 줄일수 있다."
   ]
  },
  {
   "cell_type": "markdown",
   "metadata": {},
   "source": [
    "---\n",
    "# 조별 협력 내용\n",
    "### 코드에 오류가 생겨 고생하였지만 팀원과 함께 해결하였다."
   ]
  },
  {
   "cell_type": "markdown",
   "metadata": {},
   "source": []
  }
 ],
 "metadata": {
  "kernelspec": {
   "display_name": "Python 3",
   "language": "python",
   "name": "python3"
  },
  "language_info": {
   "codemirror_mode": {
    "name": "ipython",
    "version": 3
   },
   "file_extension": ".py",
   "mimetype": "text/x-python",
   "name": "python",
   "nbconvert_exporter": "python",
   "pygments_lexer": "ipython3",
   "version": "3.11.2"
  }
 },
 "nbformat": 4,
 "nbformat_minor": 2
}
