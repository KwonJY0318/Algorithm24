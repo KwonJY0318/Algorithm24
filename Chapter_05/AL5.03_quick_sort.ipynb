{
 "cells": [
  {
   "cell_type": "markdown",
   "metadata": {},
   "source": [
    "---\n",
    "# 문제정의\n",
    "#### quick_sort를 사용하여 주어진 수를 작은 수부터 차례로 정렬하는 알고리즘"
   ]
  },
  {
   "cell_type": "markdown",
   "metadata": {},
   "source": [
    "---\n",
    "# 알고리즘 설명\n",
    "#### 분할(Divide): 먼저 피벗(pivot)을 선택 후 리스트의 임의의 항목을 선택. 피벗보다 작은 항목들은 모두 피벗의 왼쪽으로 옯기고 큰 항목들은 오른쪽으로 옮긴다. 즉, 피벗을 중심으로 피벗보다 작은 왼쪽 부분 리스트와 큰 오른쪽 부분 리스트로 분할한다.\n",
    "\n",
    "#### 정복(Conquer): 분할이 끝나면 피벗은 최종 위치에 있지만 왼쪽과 오른쪽 부분 리스트는 정렬되어 있지 않아, 이들을 정렬하기 위해 분할 정복 전략을 다시 사용한다. 만약 리스트의 크기가 1이면 이미 정복된 것이다.\n",
    "\n",
    "#### 결합(merge): 병합 단계는 필요 없다. 분할을 할 때마다 피벗을 중심으로 작은부분(왼쪽) 큰부분(오른쪽) 리스트로 나눠지기 때문에 분할과 정복이 모두 끝나면 그 자체가 이미 정렬이 완료된 상태이다."
   ]
  },
  {
   "cell_type": "markdown",
   "metadata": {},
   "source": [
    "---\n",
    "# 손으로 푼 예제\n",
    "![AL 5.03_quick_sort](../image/AL5.03_quick_sort_hand.jpg)"
   ]
  },
  {
   "cell_type": "markdown",
   "metadata": {},
   "source": [
    "---\n",
    "# 코드 개요\n",
    "#### quick_sort(): 퀵 정렬\n",
    "\n",
    "#### (A, left, right): 피벗보다 작은수를 left 큰수를 right로 옮기기 위함\n",
    "\n",
    "#### mid = partition(A, left, right) 좌우로 분할\n",
    "\n",
    "#### quick_sort(A, left, mid-1) 왼쪽 부분리스트를 퀵 정렬시킴\n",
    "\n",
    "#### quick_sort(A, mid+1, right) 오른쪽 부분리스트를 쿽 정렬시킴"
   ]
  },
  {
   "cell_type": "markdown",
   "metadata": {},
   "source": [
    "---\n",
    "# 알고리즘 코드"
   ]
  },
  {
   "cell_type": "code",
   "execution_count": 8,
   "metadata": {},
   "outputs": [],
   "source": [
    "def partition(A, left, right):\n",
    "    low = left +1\n",
    "    high = right\n",
    "    pivot =A[left]\n",
    "    while (low <= high):\n",
    "        while low <= right and A[low] <= pivot : low += 1\n",
    "        while high >= left and A[high] > pivot : high -= 1\n",
    "\n",
    "        if low < high :\n",
    "            A[low], A[high] = A[high], A[low]\n",
    "\n",
    "    A[left], A[high] = A[high], A[left]\n",
    "    return high\n",
    "        \n",
    "def quick_sort(A, left, right):\n",
    "    if left < right :\n",
    "        mid = partition(A,left, right)\n",
    "        quick_sort(A, left, mid -1)\n",
    "        quick_sort(A, mid+1, right)"
   ]
  },
  {
   "cell_type": "markdown",
   "metadata": {},
   "source": [
    "---\n",
    "# 테스트 코드"
   ]
  },
  {
   "cell_type": "code",
   "execution_count": 9,
   "metadata": {},
   "outputs": [
    {
     "name": "stdout",
     "output_type": "stream",
     "text": [
      "Original:  [5, 3, 8, 4, 9, 1, 6, 2, 7]\n",
      "QuickSort:  [1, 2, 3, 4, 5, 6, 7, 8, 9]\n"
     ]
    }
   ],
   "source": [
    "data = [5, 3, 8, 4, 9, 1, 6, 2, 7]\n",
    "print(\"Original: \",data)\n",
    "quick_sort(data, 0, len(data)-1)\n",
    "print(\"QuickSort: \", data)"
   ]
  },
  {
   "cell_type": "markdown",
   "metadata": {},
   "source": [
    "---\n",
    "# 수행결과\n",
    "![AL 5.03 quick_sort](../image/AL5.03_quick_sort_result.PNG)"
   ]
  },
  {
   "cell_type": "markdown",
   "metadata": {},
   "source": [
    "---\n",
    "# 복잡도 분석\n",
    "#### 최선의 경우는 한 번의 분할만으로 선택이 완료되는 경우이다. 전체 리스트에 대한 한번의 분할은 명확히 n에 비례하는 즉 O(n)의 시간이 걸린다.\n",
    "\n",
    "#### 최악의 경우는 분할할 때마다 부분 리스트의 한쪽은 항목이 없고 다른 한쪽에만 모든 항목이 들어가는 상황이다. 예를 들어, 이미 정렬된 리스트에서 가장 큰 항목을 찾는 것이 가장 최악의 상황이다. n에 비례하는 분할이 필요하므로 시간 복잡도가 O(n의2승)이 된다."
   ]
  },
  {
   "cell_type": "markdown",
   "metadata": {},
   "source": [
    "---\n",
    "# 조별 협력 내용\n",
    "#### 팀원들과 검수 밑 내용 정리 후 마무리 하였음"
   ]
  },
  {
   "cell_type": "markdown",
   "metadata": {},
   "source": []
  }
 ],
 "metadata": {
  "kernelspec": {
   "display_name": "Python 3",
   "language": "python",
   "name": "python3"
  },
  "language_info": {
   "codemirror_mode": {
    "name": "ipython",
    "version": 3
   },
   "file_extension": ".py",
   "mimetype": "text/x-python",
   "name": "python",
   "nbconvert_exporter": "python",
   "pygments_lexer": "ipython3",
   "version": "3.12.2"
  }
 },
 "nbformat": 4,
 "nbformat_minor": 2
}
